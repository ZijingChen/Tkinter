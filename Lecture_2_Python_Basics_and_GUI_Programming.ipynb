{
  "nbformat": 4,
  "nbformat_minor": 0,
  "metadata": {
    "colab": {
      "provenance": []
    },
    "kernelspec": {
      "name": "python3",
      "display_name": "Python 3"
    },
    "language_info": {
      "name": "python"
    }
  },
  "cells": [
    {
      "cell_type": "markdown",
      "source": [
        "### Reference Semantics\n",
        "\n",
        "x = y # does not make a copy of y, makes x reference the object y references\n",
        "\n"
      ],
      "metadata": {
        "id": "4XLvL_kJe8Yg"
      }
    },
    {
      "cell_type": "code",
      "execution_count": null,
      "metadata": {
        "colab": {
          "base_uri": "https://localhost:8080/"
        },
        "id": "NsY7ktAwe1sn",
        "outputId": "51af851f-1fe5-48be-a981-b747806a20db"
      },
      "outputs": [
        {
          "output_type": "stream",
          "name": "stdout",
          "text": [
            "[1, 2, 3, 4]\n"
          ]
        }
      ],
      "source": [
        "a = [1,2,3]\n",
        "b = a\n",
        "b.append(4)\n",
        "print(a)"
      ]
    },
    {
      "cell_type": "code",
      "source": [
        "a = 1\n",
        "b = a\n",
        "a = a+1\n",
        "print(b)"
      ],
      "metadata": {
        "colab": {
          "base_uri": "https://localhost:8080/"
        },
        "id": "Faqn9jEmfXXk",
        "outputId": "49dc70fa-6ca4-46f3-8440-484c9d1c91b4"
      },
      "execution_count": null,
      "outputs": [
        {
          "output_type": "stream",
          "name": "stdout",
          "text": [
            "1\n"
          ]
        }
      ]
    },
    {
      "cell_type": "markdown",
      "source": [
        "### The 'in' operator"
      ],
      "metadata": {
        "id": "2phNJA6OjWzG"
      }
    },
    {
      "cell_type": "code",
      "source": [
        "for x in \"banana\":\n",
        "  print(x)"
      ],
      "metadata": {
        "colab": {
          "base_uri": "https://localhost:8080/"
        },
        "id": "io6kk3kdjZCS",
        "outputId": "0e671bb4-24bc-4979-83ce-1cb7955b211e"
      },
      "execution_count": null,
      "outputs": [
        {
          "output_type": "stream",
          "name": "stdout",
          "text": [
            "b\n",
            "a\n",
            "n\n",
            "a\n",
            "n\n",
            "a\n"
          ]
        }
      ]
    },
    {
      "cell_type": "code",
      "source": [
        "thislist = [\"apple\", \"banana\", \"cherry\"]\n",
        "if \"apple\" in thislist:\n",
        "  print(\"yes, balabala\")"
      ],
      "metadata": {
        "colab": {
          "base_uri": "https://localhost:8080/"
        },
        "id": "OqQTZeikjbfs",
        "outputId": "e80aeec4-65e4-4a81-bcd3-ffb17d652ac2"
      },
      "execution_count": null,
      "outputs": [
        {
          "output_type": "stream",
          "name": "stdout",
          "text": [
            "yes, balabala\n"
          ]
        }
      ]
    },
    {
      "cell_type": "code",
      "source": [
        "# The + Operator\n",
        "print(\"Hello\" + \" \" + \"Zijing\")"
      ],
      "metadata": {
        "colab": {
          "base_uri": "https://localhost:8080/"
        },
        "id": "v2txY4qfjxD2",
        "outputId": "bc9c0cda-bb7f-4a1b-85c3-cdac1c1f243e"
      },
      "execution_count": null,
      "outputs": [
        {
          "output_type": "stream",
          "name": "stdout",
          "text": [
            "Hello Zijing\n"
          ]
        }
      ]
    },
    {
      "cell_type": "code",
      "source": [
        "# The * Operator\n",
        "mylist = [1,2,3]*3\n",
        "mylist"
      ],
      "metadata": {
        "colab": {
          "base_uri": "https://localhost:8080/"
        },
        "id": "nyL6eXdfkClb",
        "outputId": "ecaf3ecf-823c-4eb9-9f00-100d23558e5c"
      },
      "execution_count": null,
      "outputs": [
        {
          "output_type": "execute_result",
          "data": {
            "text/plain": [
              "[1, 2, 3, 1, 2, 3, 1, 2, 3]"
            ]
          },
          "metadata": {},
          "execution_count": 10
        }
      ]
    },
    {
      "cell_type": "markdown",
      "source": [
        "### Loops\n",
        "\n",
        "While loop; for loop"
      ],
      "metadata": {
        "id": "SAoKG416mq2N"
      }
    },
    {
      "cell_type": "code",
      "source": [
        "i = 1\n",
        "while i<6:\n",
        "  print(i)\n",
        "  i = i+1"
      ],
      "metadata": {
        "colab": {
          "base_uri": "https://localhost:8080/"
        },
        "id": "RCXSrVGbkHF2",
        "outputId": "5e96fc3e-c0b9-48cb-dac3-a55840f223e5"
      },
      "execution_count": null,
      "outputs": [
        {
          "output_type": "stream",
          "name": "stdout",
          "text": [
            "1\n",
            "2\n",
            "3\n",
            "4\n",
            "5\n"
          ]
        }
      ]
    },
    {
      "cell_type": "code",
      "source": [
        "fruits = ['apple','banana','cherry']\n",
        "for x in fruits:\n",
        "  print(x)"
      ],
      "metadata": {
        "colab": {
          "base_uri": "https://localhost:8080/"
        },
        "id": "oAhE4mc2kd9E",
        "outputId": "d0592c32-22a2-492d-da45-40a3193b3b49"
      },
      "execution_count": null,
      "outputs": [
        {
          "output_type": "stream",
          "name": "stdout",
          "text": [
            "apple\n",
            "banana\n",
            "cherry\n"
          ]
        }
      ]
    },
    {
      "cell_type": "markdown",
      "source": [
        "### Python Classes and Objects"
      ],
      "metadata": {
        "id": "fYnPk_joo6E5"
      }
    },
    {
      "cell_type": "code",
      "source": [
        "# Everything in Python is an object, and has its own unique id\n",
        "myname = \"Zijing\"\n",
        "id(myname)"
      ],
      "metadata": {
        "colab": {
          "base_uri": "https://localhost:8080/"
        },
        "id": "1KhDIjXRo9Q_",
        "outputId": "cf731950-da31-4c5a-d894-aa96b0cabb11"
      },
      "execution_count": null,
      "outputs": [
        {
          "output_type": "execute_result",
          "data": {
            "text/plain": [
              "137620834951920"
            ]
          },
          "metadata": {},
          "execution_count": 15
        }
      ]
    },
    {
      "cell_type": "code",
      "source": [
        "luckynumber = 888\n",
        "id(luckynumber)"
      ],
      "metadata": {
        "colab": {
          "base_uri": "https://localhost:8080/"
        },
        "id": "uwTTyHiPpEUI",
        "outputId": "a2d81567-8218-4502-8989-5b3465ccebb6"
      },
      "execution_count": null,
      "outputs": [
        {
          "output_type": "execute_result",
          "data": {
            "text/plain": [
              "137620283794992"
            ]
          },
          "metadata": {},
          "execution_count": 16
        }
      ]
    },
    {
      "cell_type": "code",
      "source": [
        "x = \"cherry\"\n",
        "id(x)"
      ],
      "metadata": {
        "colab": {
          "base_uri": "https://localhost:8080/"
        },
        "id": "_7fbH2GgpI-8",
        "outputId": "ec264289-08a2-4e28-eb93-eead70e403c5"
      },
      "execution_count": null,
      "outputs": [
        {
          "output_type": "execute_result",
          "data": {
            "text/plain": [
              "137620834909104"
            ]
          },
          "metadata": {},
          "execution_count": 19
        }
      ]
    },
    {
      "cell_type": "code",
      "source": [
        "y = \"cherry\"\n",
        "id(y)"
      ],
      "metadata": {
        "colab": {
          "base_uri": "https://localhost:8080/"
        },
        "id": "sfFY1ZFVpKlF",
        "outputId": "d67fbf46-3c49-4156-e4d4-84c7ac950af8"
      },
      "execution_count": null,
      "outputs": [
        {
          "output_type": "execute_result",
          "data": {
            "text/plain": [
              "137620834909104"
            ]
          },
          "metadata": {},
          "execution_count": 20
        }
      ]
    },
    {
      "cell_type": "code",
      "source": [],
      "metadata": {
        "id": "xcxASy7zpNa-"
      },
      "execution_count": null,
      "outputs": []
    },
    {
      "cell_type": "markdown",
      "source": [
        "## Tkinter\n",
        "\n",
        "Online text tutorial:\n",
        "\n",
        "https://www.geeksforgeeks.org/python-tkinter-tutorial/?ref=lbp\n",
        "\n",
        "Video tutorial:\n",
        "https://www.youtube.com/watch?v=mop6g-c5HEY\n"
      ],
      "metadata": {
        "id": "cXXcYptMqxge"
      }
    },
    {
      "cell_type": "code",
      "source": [
        "# My first blank window\n",
        "# only two lines of code\n",
        "import tkinter\n",
        "\n",
        "top = tkinter.Tk()\n",
        "top.mainloop()"
      ],
      "metadata": {
        "id": "DHqPm3fBq-5-"
      },
      "execution_count": null,
      "outputs": []
    },
    {
      "cell_type": "code",
      "source": [
        "# Add a button to the window\n",
        "import tkinter\n",
        "import tkinter.messagebox\n",
        "\n",
        "top = tkinter.Tk()\n",
        "def helloCallBack():\n",
        "  tkinter.messagebox.showinfo( \"Hello Python\", \"Hello World\")\n",
        "B = tkinter.Button(top, text =\"Hello\", command = helloCallBack)\n",
        "\n",
        "B.pack()\n",
        "top.mainloop()"
      ],
      "metadata": {
        "id": "mS0AOKFptGn-"
      },
      "execution_count": null,
      "outputs": []
    },
    {
      "cell_type": "code",
      "source": [
        "# HelloWorld\n",
        "import tkinter\n",
        "from tkinter import *\n",
        "\n",
        "window = tkinter.Tk()\n",
        "window.title('Zijing Window')\n",
        "label = Label(window, text = \"Hello world!\\n Welcome to Zijing's class\", highlightbackground='#3E4149').pack()\n",
        "\n",
        "window.mainloop()"
      ],
      "metadata": {
        "id": "avo5kOhs8AG9"
      },
      "execution_count": null,
      "outputs": []
    },
    {
      "cell_type": "markdown",
      "source": [
        "### Tkinter - Window\n",
        "https://www.pythontutorial.net/tkinter/tkinter-window/"
      ],
      "metadata": {
        "id": "N3Y-HZP7o670"
      }
    }
  ]
}